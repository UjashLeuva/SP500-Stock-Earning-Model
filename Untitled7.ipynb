{
 "cells": [
  {
   "cell_type": "code",
   "execution_count": 24,
   "metadata": {},
   "outputs": [],
   "source": [
    "import pandas as pd\n",
    "import numpy  as np\n",
    "import requests\n",
    "import json\n",
    "import csv\n",
    "from sklearn.feature_extraction.text import CountVectorizer\n",
    "from sklearn.linear_model import LogisticRegression\n",
    "data = [['Ticker'],'']\n",
    "url = \"https://api.intrinio.com/news\"\n",
    "ticker = ['AAPL','AXP','BA','CAT','CSCO','CVX','DIS','DWDP','GE','GS','HD','IBM','INTC','JNJ','JPM','KO','MCD','MMM','MRK','MSFT','NKE','PFE','PG','TRV','UNH','UTX','V','VZ','WMT','XOM']\n",
    "array = []\n",
    "for i in range(30):\n",
    "    test = []\n",
    "    querystring = {\"identifier\":ticker[i]}\n",
    "    headers = {\n",
    "        'Authorization': \"OjhlZWU1ZWM0OTE5MmVhZWVlZGViNzE2ZTRjNzUxMDlh\",\n",
    "        'Cache-Control': \"no-cache\",\n",
    "        'Postman-Token': \"7c2b0d40-5121-ceb7-2cea-36ca8b41d099\"\n",
    "        }\n",
    "    response = requests.request(\"GET\", url, headers=headers, params=querystring)\n",
    "    py = json.loads(response.text)\n",
    "    "
   ]
  },
  {
   "cell_type": "code",
   "execution_count": 21,
   "metadata": {},
   "outputs": [
    {
     "ename": "IndentationError",
     "evalue": "unexpected indent (<ipython-input-21-0fc42edd797f>, line 2)",
     "output_type": "error",
     "traceback": [
      "\u001b[0;36m  File \u001b[0;32m\"<ipython-input-21-0fc42edd797f>\"\u001b[0;36m, line \u001b[0;32m2\u001b[0m\n\u001b[0;31m    data['positivity'] = np.where(data['positivity']>5, 1, 0)\u001b[0m\n\u001b[0m    ^\u001b[0m\n\u001b[0;31mIndentationError\u001b[0m\u001b[0;31m:\u001b[0m unexpected indent\n"
     ]
    }
   ],
   "source": [
    "data = pd.read_csv('Full-Economic-News-DFE-839861.csv')\n",
    "    data['positivity'] = np.where(data['positivity']>5, 1, 0)\n",
    "    train = data\n",
    "    for i in range(10):\n",
    "        test.append(py['data'][i]['title'])\n",
    "        traintext = []\n",
    "    for row in range(0,len(train.index)):\n",
    "        traintext.append(' '.join(str(x) for x in train.iloc[row,4:]))\n",
    "    basicvectorizer = CountVectorizer()\n",
    "    basictrain = basicvectorizer.fit_transform(traintext)\n",
    "    basicmodel = LogisticRegression()\n",
    "    basicmodel = basicmodel.fit(basictrain, train[\"positivity\"])\n",
    "    basictest = basicvectorizer.transform(test)\n",
    "    predictions = basicmodel.predict(basictest)\n",
    "    array.append(sum(predictions))\n",
    "print(array)\n"
   ]
  },
  {
   "cell_type": "code",
   "execution_count": 22,
   "metadata": {},
   "outputs": [
    {
     "data": {
      "text/plain": [
       "{'errors': [{'human': 'No active subscription(s).',\n",
       "   'message': 'An active subscription is required to view this data.'}]}"
      ]
     },
     "execution_count": 22,
     "metadata": {},
     "output_type": "execute_result"
    }
   ],
   "source": []
  },
  {
   "cell_type": "code",
   "execution_count": 9,
   "metadata": {},
   "outputs": [],
   "source": [
    "#----------------FLASK---ENDPOINTS-------------------\n",
    "\n",
    "app = Flask(__name__)\n",
    "\n",
    "\n",
    "@app.route('/',methods=['GET'])\n",
    "def hello():\n",
    "\treturn jsonify({'hello':'world'})\n",
    "\n",
    "#-------------TRIGGER------------------------"
   ]
  },
  {
   "cell_type": "code",
   "execution_count": 13,
   "metadata": {},
   "outputs": [
    {
     "ename": "IndentationError",
     "evalue": "expected an indented block (<ipython-input-13-568b05b54eff>, line 5)",
     "output_type": "error",
     "traceback": [
      "\u001b[0;36m  File \u001b[0;32m\"<ipython-input-13-568b05b54eff>\"\u001b[0;36m, line \u001b[0;32m5\u001b[0m\n\u001b[0;31m    key = request.args['keyword']\u001b[0m\n\u001b[0m      ^\u001b[0m\n\u001b[0;31mIndentationError\u001b[0m\u001b[0;31m:\u001b[0m expected an indented block\n"
     ]
    }
   ],
   "source": []
  },
  {
   "cell_type": "code",
   "execution_count": null,
   "metadata": {},
   "outputs": [],
   "source": []
  }
 ],
 "metadata": {
  "kernelspec": {
   "display_name": "Python 3",
   "language": "python",
   "name": "python3"
  },
  "language_info": {
   "codemirror_mode": {
    "name": "ipython",
    "version": 3
   },
   "file_extension": ".py",
   "mimetype": "text/x-python",
   "name": "python",
   "nbconvert_exporter": "python",
   "pygments_lexer": "ipython3",
   "version": "3.6.8"
  }
 },
 "nbformat": 4,
 "nbformat_minor": 2
}
