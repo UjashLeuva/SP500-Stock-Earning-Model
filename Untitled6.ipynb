{
 "cells": [
  {
   "cell_type": "code",
   "execution_count": 12,
   "metadata": {},
   "outputs": [],
   "source": [
    "import matplotlib.pyplot as plt\n",
    "%matplotlib inline\n",
    "import math\n",
    "\n",
    "# Other packages\n",
    "import numpy as np\n",
    "import pandas as pd\n",
    "import re\n",
    "import scipy as sp\n",
    "import xgboost as xgb\n",
    "import matplotlib.pyplot as plt\n",
    "from numpy import concatenate\n",
    "from pandas import DataFrame, Series, read_csv, scatter_matrix\n",
    "\n",
    "\n",
    "import time\n",
    "import numpy as np\n",
    "import pandas as pd\n",
    "\n",
    "import datetime\n",
    "import seaborn as sns\n",
    "\n",
    "import matplotlib.pyplot as plt\n",
    "%matplotlib inline\n",
    "from sklearn.decomposition import PCA\n",
    "\n",
    "import math\n",
    "\n",
    "\n",
    "from sklearn.metrics import mean_squared_error\n",
    "from sklearn.preprocessing import StandardScaler\n",
    "from sklearn.model_selection import cross_val_score\n",
    "from sklearn.preprocessing import LabelEncoder \n",
    "from sklearn.preprocessing import MinMaxScaler\n",
    "from sklearn.preprocessing import minmax_scale\n",
    "from sklearn.preprocessing import MaxAbsScaler\n",
    "from sklearn.preprocessing import StandardScaler\n",
    "from sklearn.preprocessing import RobustScaler\n",
    "from sklearn.preprocessing import Normalizer\n",
    "from sklearn.metrics import r2_score\n",
    "from sklearn.metrics import accuracy_score\n",
    "\n",
    "import xgboost as xgb\n",
    "from sklearn.metrics import accuracy_score\n",
    "\n",
    "\n",
    "from statsmodels.tsa.arima_model import ARIMA\n",
    "from pandas import DataFrame\n",
    "from pandas import datetime\n"
   ]
  },
  {
   "cell_type": "code",
   "execution_count": 2,
   "metadata": {},
   "outputs": [],
   "source": [
    "import warnings\n",
    "warnings.filterwarnings(\"ignore\")\n"
   ]
  },
  {
   "cell_type": "code",
   "execution_count": 3,
   "metadata": {},
   "outputs": [],
   "source": [
    "context = mx.cpu(); model_ctx=mx.cpu()\n",
    "mx.random.seed(1719)"
   ]
  },
  {
   "cell_type": "code",
   "execution_count": 14,
   "metadata": {},
   "outputs": [
    {
     "data": {
      "text/plain": [
       "(1062, 5795)"
      ]
     },
     "execution_count": 14,
     "metadata": {},
     "output_type": "execute_result"
    }
   ],
   "source": [
    "df = read_csv('SP500_TechIndicator_FFT.csv')\n",
    "df = df.drop(['Unnamed: 0'], axis=1)\n",
    "df.shape"
   ]
  },
  {
   "cell_type": "code",
   "execution_count": 15,
   "metadata": {},
   "outputs": [
    {
     "name": "stdout",
     "output_type": "stream",
     "text": [
      "Total dataset has 1062 samples, and 5795 features.\n"
     ]
    }
   ],
   "source": [
    "print('Total dataset has {} samples, and {} features.'.format(df.shape[0], \\\n",
    "                                                              df.shape[1]))"
   ]
  },
  {
   "cell_type": "code",
   "execution_count": 21,
   "metadata": {},
   "outputs": [],
   "source": [
    "def get_feature_importance_data(data_income):\n",
    "    Facebook_data = data_income.copy()\n",
    "    y = Facebook_data['Facebook_Close']\n",
    "    X = Facebook_data.iloc[:, 1:]\n",
    "    \n",
    "    train_samples = int(X.shape[0] * 0.65)\n",
    " \n",
    "    X_train = X.iloc[:train_samples]\n",
    "    X_test = X.iloc[train_samples:]\n",
    "\n",
    "    y_train = y.iloc[:train_samples]\n",
    "    y_test = y.iloc[train_samples:]\n",
    "    \n",
    "    return (X_train, y_train), (X_test, y_test)"
   ]
  },
  {
   "cell_type": "code",
   "execution_count": 22,
   "metadata": {},
   "outputs": [],
   "source": [
    "# Get training and test data\n",
    "(X_train_FI, y_train_FI), (X_test_FI, y_test_FI) = get_feature_importance_data(df)"
   ]
  },
  {
   "cell_type": "code",
   "execution_count": 23,
   "metadata": {},
   "outputs": [],
   "source": [
    "regressor = xgb.XGBRegressor(gamma=0.0,n_estimators=150,base_score=0.7,colsample_bytree=1,learning_rate=0.05)"
   ]
  },
  {
   "cell_type": "code",
   "execution_count": 24,
   "metadata": {},
   "outputs": [
    {
     "ename": "ValueError",
     "evalue": "DataFrame.dtypes for data must be int, float or bool.\n                Did not expect the data types in fields Date, Activision_Blizzard_final_fft, ATT_final_fft, CBS_final_fft, CenturyLink_final_fft, Comcast_final_fft, Discovery_Class_A_final_fft, Discovery_Class_C_final_fft, Dish_final_fft, Electronic_Arts_final_fft, Facebook_final_fft, Interpublic_Group_final_fft, Netflix_final_fft, News_Corp_Class_A_final_fft, News_Corp_Class_B_final_fft, Omnicom_Group_final_fft, Take_Two_Interactive_final_fft, Twitter_final_fft, TripAdvisor_final_fft, TwentyFirst_Century_Fox_A_final_fft, TwentyFirst_Century_Fox_B_final_fft, Verizon_Communications_final_fft, Viacom_final_fft, The_Walt_Disney_final_fft, Advance_Auto_Parts_final_fft, Amazon_final_fft, AutoZone_final_fft, Best_Buy_Co_final_fft, BlockHR_final_fft, BorgWarner_final_fft, Carmax_final_fft, Carnival_final_fft, Chipotle_Mexican_Grill_final_fft, D_R_Horton_final_fft, Darden_Restaurants_final_fft, Dollar_General_final_fft, Dollar_Tree_final_fft, eBay_final_fft, Expedia_Group_final_fft, Foot_Locker_final_fft, Ford_Motor_final_fft, Gap_final_fft, Garmin_final_fft, General_Motors_final_fft, Genuine_Parts_final_fft, Goodyear_Tire_Rubber_final_fft, Hanesbrands_final_fft, Harley_Davidson_final_fft, Hasbro_final_fft, Home_Depot_final_fft, Kohls_final_fft, L_Brands_final_fft, Leggett_Platt_final_fft, Lennar_final_fft, LKQ_final_fft, Lowes_Cos_final_fft, Macys_final_fft, Marriott_Int_final_fft, Mattel_final_fft, McDonalds_final_fft, MGM_Resorts_International_final_fft, Mohawk_Industries_final_fft, Newell_Brands_final_fft, Nike_final_fft, Nordstrom_final_fft, Norwegian_Cruise_Line_final_fft, OReilly_Automotive_final_fft, Polo_Ralph_Lauren_final_fft, Pulte_Homes_final_fft, PVH_Corp_final_fft, Ross_Stores_final_fft, Starbucks_final_fft, Target_final_fft, Tiffany_final_fft, TJX_Companies_final_fft, Tractor_Supply_Company_final_fft, Ulta_Beauty_final_fft, Under_Armour_Class_A_final_fft, V_F_Corp_final_fft, Whirlpool_final_fft, Wynn_Resorts_final_fft, Yum_Brands_final_fft, Altria_Group_final_fft, Archer_Daniels_Midland_Co_final_fft, Brown_Forman_final_fft, Campbell_Soup_final_fft, Church_Dwight_final_fft, The_Clorox_Company_final_fft, Coca_Cola_Company_final_fft, Colgate_Palmolive_final_fft, Conagra_Brands_final_fft, Constellation_Brands_final_fft, Costco_Wholesale_final_fft, Coty_final_fft, General_Mills_final_fft, The_Hershey_Company_final_fft, Hormel_Foods_final_fft, JM_Smucker_final_fft, Kellogg_final_fft, Kimberly_Clark_final_fft, Kroger_final_fft, McCormick_final_fft, Molson_Coors_Brewing_Company_final_fft, Mondelez_International_final_fft, Monster_Beverage_final_fft, PepsiCo_final_fft, Philip_Morris_International_final_fft, Procter_Gamble_final_fft, Sysco_final_fft, Tyson_Foods_final_fft, Walmart_final_fft, Walgreens_Boots_Alliance_final_fft, Anadarko_Petroleum_final_fft, Apache_Corporation_final_fft, Campbell_Soup_final_fft.1, Cabot_Oil_Gas_final_fft, Chevron_final_fft, Cimarex_Energy_final_fft, Concho_Resources_final_fft, ConocoPhillips_final_fft, Devon_Energy_final_fft, Diamondback_Energy_final_fft, EOG_Resources_final_fft, Exxon_Mobil_final_fft, Halliburton_final_fft, Helmerich_Payne_final_fft, Hess_Corporation_final_fft, Kinder_Morgan_final_fft, Marathon_Oil_final_fft, Marathon_Petroleum_final_fft, National_Oilwell_Varco_final_fft, Newfield_Exploration_final_fft, Noble_Energy_final_fft, Occidental_Petroleum_final_fft, ONEOK_final_fft, Phillips_SixtySix_final_fft, Schlumberger_final_fft, TechnipFMC_final_fft, Valero_Energy_final_fft, Williams_Cos_final_fft, Affiliated_Managers_Group_final_fft, AFLAC_final_fft, Allstate_Corp_final_fft, American_Express_final_fft, American_International_Group_final_fft, Ameriprise_Financial_final_fft, Aon_final_fft, Arthur_J_Gallagher_final_fft, Assurant_final_fft, Bank_of_America_final_fft, The_Bank_of_NewYork_final_fft, BBT_final_fft, Berkshire_Hathaway_final_fft, BlackRock_final_fft, Capital_One_Financial_final_fft, Cboe_Global_Markets_final_fft, Charles_Schwab_Corporation_final_fft, Chubb_final_fft, Cincinnati_Financial_final_fft, Citigroup_final_fft, CME_Group_final_fft, Comerica_final_fft, Discover_Financial_Services_final_fft, ETrade_final_fft, Everest_Re_Group_final_fft, Fifth_Third_Bancorp_final_fft, First_Republic_Bank_final_fft, Franklin_Resources_final_fft, Goldman_Sachs_Group_final_fft, Hartford_Financial_final_fft, Huntington_Bancshares_final_fft, Intercontinental_Exchange_final_fft, Invesco_final_fft, JPMorgan_Chase_final_fft, KeyCorp_final_fft, Lincoln_National_final_fft, Loews_final_fft, MT_Bank_final_fft, Marsh_McLennan_final_fft, MetLife_final_fft, Moodys_final_fft, Morgan_Stanley_final_fft, MSCI_final_fft, Nasdaq_final_fft, Northern_Trust_final_fft, Peoples_United_Financial_final_fft, PNC_Financial_Services_final_fft, Principal_Financial_Group_final_fft, Progressive_final_fft, Prudential_Financial_final_fft, Raymond_James_Financial_final_fft, Regions_Financial_final_fft, State_Street_final_fft, SunTrust_Banks_final_fft, SVB_Financial_final_fft, T_Rowe_Price_Group_final_fft, Torchmark_final_fft, US_Bancorp_final_fft, Unum_Group_final_fft, Wells_Fargo_final_fft, Zions_Bancorp_final_fft, Abbott_Laboratories_final_fft, AbbVie_final_fft, ABIOMED_final_fft, Agilent_final_fft, Align_Technology_final_fft, Allergan_final_fft, AmerisourceBergen_Corp_final_fft, Amgen_final_fft, Baxter_International_final_fft, Becton_Dickinson_final_fft, Biogen_final_fft, Boston_Scientific_final_fft, Bristol_Myers_Squibb_final_fft, Cardinal_Health_final_fft, Celgene_final_fft, Centene_Corporation_final_fft, Cerner_final_fft, CIGNA_final_fft, The_Cooper_Companies_final_fft, CVS_Health_final_fft, Danaher_final_fft, DaVita_final_fft, Dentsply_Sirona_final_fft, Edwards_Lifesciences_final_fft, Gilead_Sciences_final_fft, HCA_Holdings_final_fft, Henry_Schein_final_fft, Hologic_final_fft, Humana_final_fft, IDEXX_Laboratories_final_fft, Illumina_final_fft, Incyte_final_fft, Intuitive_Surgical_final_fft, Johnson_Johnson_final_fft, Laboratory_America_Holding_final_fft, Lilly_final_fft, McKesson_final_fft, Medtronic_final_fft, Merck_final_fft, Mylan_NV_final_fft, Nektar_Therapeutics_final_fft, PerkinElmer_final_fft, Perrigo_final_fft, Pfizer_final_fft, Quest_Diagnostics_final_fft, Regeneron_final_fft, ResMed_final_fft, Stryker_final_fft, Teleflex_final_fft, Thermo_Fisher_Scientific_final_fft, United_Health_Group_final_fft, Universal_Health_Services_final_fft, Varian_Medical_Systems_final_fft, Vertex_Pharmaceuticals_final_fft, Waters_Corporation_final_fft, WellCare_final_fft, Zimmer_Biomet_Holdings_final_fft, Zoetis_final_fft, Accenture_final_fft, Adobe_Systems_final_fft, Advanced_Micro_Devices_final_fft, Akamai_Technologies_final_fft, Alliance_Data_Systems_final_fft, Amphenol_Corp_final_fft, Analog_Devices_final_fft, ANSYS_final_fft, Apple_final_fft, Applied_Materials_final_fft, Autodesk_final_fft, Automatic_Data_Processing_final_fft, Broadcom_final_fft, Broadridge_Financial_Solutions_final_fft, Cadence_Design_Systems_final_fft, Cisco_Systems_final_fft, Citrix_Systems_final_fft, Cognizant_Technology_Solutions_final_fft, Corning_final_fft, F5_Networks_final_fft, Fidelity_National_Information_Services_final_fft, Fiserv_final_fft, FleetCor_Technologies_final_fft, FLIR_Systems_final_fft, Fortinet_final_fft, Global_Payments_final_fft, HP_final_fft, Intel_final_fft, International_Business_Machines_final_fft, Intuit_final_fft, IPG_Photonics_final_fft, Jack_Henry_Associates_final_fft, Juniper_Networks_final_fft, Keysight_Technologies_final_fft, KLA_Tencor_Corp_final_fft, Lam_Research_final_fft, Mastercard_final_fft, Microchip_Technology_final_fft, Micron_Technology_final_fft, Microsoft_final_fft, Motorola_Solutions_final_fft, NetApp_final_fft, Nvidia_Corporation_final_fft, Oracle_final_fft, Paychex_final_fft, QUALCOMM_final_fft, Red_Hat_final_fft, Salesforce_final_fft, Rollins_final_fft, Seagate_Technology_final_fft, Skyworks_Solution_final_fft, Symantec_final_fft, Synopsys_final_fft, TE_Connectivity_final_fft, Texas_Instruments_final_fft, Total_System_Services_final_fft, Verisign_final_fft, Visa_final_fft, Western_Digital_final_fft, Western_Union_final_fft, Xerox_final_fft, Xilinx_final_fft, Air_Products_Chemicals_final_fft, Albemarle_Corp_final_fft, Avery_Dennison_final_fft, Ball_final_fft, Celanese_final_fft, CF_Industries_Holdings_final_fft, Eastman_Chemical_final_fft, Ecolab_final_fft, FMC_Corporation_final_fft, Freeport_McMoRan_final_fft, International_Paper_final_fft, LyondellBasell_final_fft, Martin_Marietta_Materials_final_fft, The_Mosaic_Company_final_fft, Newmont_Mining_Corporation_final_fft, Nucor_final_fft, Packaging_Corporation_of_America_final_fft, Sealed_Air_final_fft, Sherwin_Williams_final_fft, Vulcan_Materials_final_fft, American_Tower_Corp_final_fft, Alexandria_Real_Estate_Equities_final_fft, Apartment_Investment_Management_final_fft, AvalonBay_Communities_final_fft, Boston_Properties_final_fft, Crown_Castle_International_final_fft, Digital_Realty_Trust_final_fft, Duke_Realty_final_fft, Equinix_final_fft, Equity_Residential_final_fft, Essex_Property_Trust_final_fft, Extra_Space_Storage_final_fft, Federal_Realty_Investment_Trust_final_fft, HCP_final_fft, Host_Hotels_Resorts_final_fft, Iron_Mountain_final_fft, Kimco_Realty_final_fft, Macerich_final_fft, Mid_America_Apartments_final_fft, Prologis_final_fft, Public_Storage_final_fft, Realty_Income_Corporation_final_fft, Regency_Centers_Corporation_final_fft, SBA_Communications_final_fft, Simon_Property_Group_final_fft, SL_Green_Realty_final_fft, UDR_final_fft, Ventas_final_fft, Vornado_Realty_Trust_final_fft, Weyerhaeuser_final_fft, AES_final_fft, Alliant_Energy_Corp_final_fft, Ameren_Corp_final_fft, American_Electric_Power_final_fft, American_Water_Works_Company_final_fft, CMS_Energy_final_fft, Consolidated_Edison_final_fft, DTE_Energy_final_fft, Duke_Energy_final_fft, Dominion_Energy_final_fft, Edison_Int_final_fft, Entergy_final_fft, Evergy_final_fft, Eversource_Energy_final_fft, Exelon_final_fft, FirstEnergy_final_fft, NextEra_Energy_final_fft, NiSource_final_fft, NRG_Energy_final_fft, Pinnacle_West_Capital_final_fft, PPL_Corp_final_fft, Public_Serv_Enterprise_final_fft, Southern_final_fft, Sempra_Energy_final_fft, Wec_Energy_Group_final_fft, Xcel_Energy_final_fft",
     "output_type": "error",
     "traceback": [
      "\u001b[0;31m---------------------------------------------------------------------------\u001b[0m",
      "\u001b[0;31mValueError\u001b[0m                                Traceback (most recent call last)",
      "\u001b[0;32m<ipython-input-24-53eda34c6f6c>\u001b[0m in \u001b[0;36m<module>\u001b[0;34m\u001b[0m\n\u001b[1;32m      1\u001b[0m xgbModel = regressor.fit(X_train_FI,y_train_FI, \\\n\u001b[1;32m      2\u001b[0m                          \u001b[0meval_set\u001b[0m \u001b[0;34m=\u001b[0m \u001b[0;34m[\u001b[0m\u001b[0;34m(\u001b[0m\u001b[0mX_train_FI\u001b[0m\u001b[0;34m,\u001b[0m \u001b[0my_train_FI\u001b[0m\u001b[0;34m)\u001b[0m\u001b[0;34m,\u001b[0m \u001b[0;34m(\u001b[0m\u001b[0mX_test_FI\u001b[0m\u001b[0;34m,\u001b[0m \u001b[0my_test_FI\u001b[0m\u001b[0;34m)\u001b[0m\u001b[0;34m]\u001b[0m\u001b[0;34m,\u001b[0m\u001b[0;31m \u001b[0m\u001b[0;31m\\\u001b[0m\u001b[0;34m\u001b[0m\u001b[0;34m\u001b[0m\u001b[0m\n\u001b[0;32m----> 3\u001b[0;31m                          verbose=False)\n\u001b[0m",
      "\u001b[0;32m~/anaconda3/lib/python3.6/site-packages/xgboost/sklearn.py\u001b[0m in \u001b[0;36mfit\u001b[0;34m(self, X, y, sample_weight, eval_set, eval_metric, early_stopping_rounds, verbose, xgb_model, sample_weight_eval_set)\u001b[0m\n\u001b[1;32m    287\u001b[0m                                    missing=self.missing, nthread=self.n_jobs)\n\u001b[1;32m    288\u001b[0m         \u001b[0;32melse\u001b[0m\u001b[0;34m:\u001b[0m\u001b[0;34m\u001b[0m\u001b[0;34m\u001b[0m\u001b[0m\n\u001b[0;32m--> 289\u001b[0;31m             \u001b[0mtrainDmatrix\u001b[0m \u001b[0;34m=\u001b[0m \u001b[0mDMatrix\u001b[0m\u001b[0;34m(\u001b[0m\u001b[0mX\u001b[0m\u001b[0;34m,\u001b[0m \u001b[0mlabel\u001b[0m\u001b[0;34m=\u001b[0m\u001b[0my\u001b[0m\u001b[0;34m,\u001b[0m \u001b[0mmissing\u001b[0m\u001b[0;34m=\u001b[0m\u001b[0mself\u001b[0m\u001b[0;34m.\u001b[0m\u001b[0mmissing\u001b[0m\u001b[0;34m,\u001b[0m \u001b[0mnthread\u001b[0m\u001b[0;34m=\u001b[0m\u001b[0mself\u001b[0m\u001b[0;34m.\u001b[0m\u001b[0mn_jobs\u001b[0m\u001b[0;34m)\u001b[0m\u001b[0;34m\u001b[0m\u001b[0;34m\u001b[0m\u001b[0m\n\u001b[0m\u001b[1;32m    290\u001b[0m \u001b[0;34m\u001b[0m\u001b[0m\n\u001b[1;32m    291\u001b[0m         \u001b[0mevals_result\u001b[0m \u001b[0;34m=\u001b[0m \u001b[0;34m{\u001b[0m\u001b[0;34m}\u001b[0m\u001b[0;34m\u001b[0m\u001b[0;34m\u001b[0m\u001b[0m\n",
      "\u001b[0;32m~/anaconda3/lib/python3.6/site-packages/xgboost/core.py\u001b[0m in \u001b[0;36m__init__\u001b[0;34m(self, data, label, missing, weight, silent, feature_names, feature_types, nthread)\u001b[0m\n\u001b[1;32m    342\u001b[0m         data, feature_names, feature_types = _maybe_pandas_data(data,\n\u001b[1;32m    343\u001b[0m                                                                 \u001b[0mfeature_names\u001b[0m\u001b[0;34m,\u001b[0m\u001b[0;34m\u001b[0m\u001b[0;34m\u001b[0m\u001b[0m\n\u001b[0;32m--> 344\u001b[0;31m                                                                 feature_types)\n\u001b[0m\u001b[1;32m    345\u001b[0m \u001b[0;34m\u001b[0m\u001b[0m\n\u001b[1;32m    346\u001b[0m         data, feature_names, feature_types = _maybe_dt_data(data,\n",
      "\u001b[0;32m~/anaconda3/lib/python3.6/site-packages/xgboost/core.py\u001b[0m in \u001b[0;36m_maybe_pandas_data\u001b[0;34m(data, feature_names, feature_types)\u001b[0m\n\u001b[1;32m    212\u001b[0m         msg = \"\"\"DataFrame.dtypes for data must be int, float or bool.\n\u001b[1;32m    213\u001b[0m                 Did not expect the data types in fields \"\"\"\n\u001b[0;32m--> 214\u001b[0;31m         \u001b[0;32mraise\u001b[0m \u001b[0mValueError\u001b[0m\u001b[0;34m(\u001b[0m\u001b[0mmsg\u001b[0m \u001b[0;34m+\u001b[0m \u001b[0;34m', '\u001b[0m\u001b[0;34m.\u001b[0m\u001b[0mjoin\u001b[0m\u001b[0;34m(\u001b[0m\u001b[0mbad_fields\u001b[0m\u001b[0;34m)\u001b[0m\u001b[0;34m)\u001b[0m\u001b[0;34m\u001b[0m\u001b[0;34m\u001b[0m\u001b[0m\n\u001b[0m\u001b[1;32m    215\u001b[0m \u001b[0;34m\u001b[0m\u001b[0m\n\u001b[1;32m    216\u001b[0m     \u001b[0;32mif\u001b[0m \u001b[0mfeature_names\u001b[0m \u001b[0;32mis\u001b[0m \u001b[0;32mNone\u001b[0m\u001b[0;34m:\u001b[0m\u001b[0;34m\u001b[0m\u001b[0;34m\u001b[0m\u001b[0m\n",
      "\u001b[0;31mValueError\u001b[0m: DataFrame.dtypes for data must be int, float or bool.\n                Did not expect the data types in fields Date, Activision_Blizzard_final_fft, ATT_final_fft, CBS_final_fft, CenturyLink_final_fft, Comcast_final_fft, Discovery_Class_A_final_fft, Discovery_Class_C_final_fft, Dish_final_fft, Electronic_Arts_final_fft, Facebook_final_fft, Interpublic_Group_final_fft, Netflix_final_fft, News_Corp_Class_A_final_fft, News_Corp_Class_B_final_fft, Omnicom_Group_final_fft, Take_Two_Interactive_final_fft, Twitter_final_fft, TripAdvisor_final_fft, TwentyFirst_Century_Fox_A_final_fft, TwentyFirst_Century_Fox_B_final_fft, Verizon_Communications_final_fft, Viacom_final_fft, The_Walt_Disney_final_fft, Advance_Auto_Parts_final_fft, Amazon_final_fft, AutoZone_final_fft, Best_Buy_Co_final_fft, BlockHR_final_fft, BorgWarner_final_fft, Carmax_final_fft, Carnival_final_fft, Chipotle_Mexican_Grill_final_fft, D_R_Horton_final_fft, Darden_Restaurants_final_fft, Dollar_General_final_fft, Dollar_Tree_final_fft, eBay_final_fft, Expedia_Group_final_fft, Foot_Locker_final_fft, Ford_Motor_final_fft, Gap_final_fft, Garmin_final_fft, General_Motors_final_fft, Genuine_Parts_final_fft, Goodyear_Tire_Rubber_final_fft, Hanesbrands_final_fft, Harley_Davidson_final_fft, Hasbro_final_fft, Home_Depot_final_fft, Kohls_final_fft, L_Brands_final_fft, Leggett_Platt_final_fft, Lennar_final_fft, LKQ_final_fft, Lowes_Cos_final_fft, Macys_final_fft, Marriott_Int_final_fft, Mattel_final_fft, McDonalds_final_fft, MGM_Resorts_International_final_fft, Mohawk_Industries_final_fft, Newell_Brands_final_fft, Nike_final_fft, Nordstrom_final_fft, Norwegian_Cruise_Line_final_fft, OReilly_Automotive_final_fft, Polo_Ralph_Lauren_final_fft, Pulte_Homes_final_fft, PVH_Corp_final_fft, Ross_Stores_final_fft, Starbucks_final_fft, Target_final_fft, Tiffany_final_fft, TJX_Companies_final_fft, Tractor_Supply_Company_final_fft, Ulta_Beauty_final_fft, Under_Armour_Class_A_final_fft, V_F_Corp_final_fft, Whirlpool_final_fft, Wynn_Resorts_final_fft, Yum_Brands_final_fft, Altria_Group_final_fft, Archer_Daniels_Midland_Co_final_fft, Brown_Forman_final_fft, Campbell_Soup_final_fft, Church_Dwight_final_fft, The_Clorox_Company_final_fft, Coca_Cola_Company_final_fft, Colgate_Palmolive_final_fft, Conagra_Brands_final_fft, Constellation_Brands_final_fft, Costco_Wholesale_final_fft, Coty_final_fft, General_Mills_final_fft, The_Hershey_Company_final_fft, Hormel_Foods_final_fft, JM_Smucker_final_fft, Kellogg_final_fft, Kimberly_Clark_final_fft, Kroger_final_fft, McCormick_final_fft, Molson_Coors_Brewing_Company_final_fft, Mondelez_International_final_fft, Monster_Beverage_final_fft, PepsiCo_final_fft, Philip_Morris_International_final_fft, Procter_Gamble_final_fft, Sysco_final_fft, Tyson_Foods_final_fft, Walmart_final_fft, Walgreens_Boots_Alliance_final_fft, Anadarko_Petroleum_final_fft, Apache_Corporation_final_fft, Campbell_Soup_final_fft.1, Cabot_Oil_Gas_final_fft, Chevron_final_fft, Cimarex_Energy_final_fft, Concho_Resources_final_fft, ConocoPhillips_final_fft, Devon_Energy_final_fft, Diamondback_Energy_final_fft, EOG_Resources_final_fft, Exxon_Mobil_final_fft, Halliburton_final_fft, Helmerich_Payne_final_fft, Hess_Corporation_final_fft, Kinder_Morgan_final_fft, Marathon_Oil_final_fft, Marathon_Petroleum_final_fft, National_Oilwell_Varco_final_fft, Newfield_Exploration_final_fft, Noble_Energy_final_fft, Occidental_Petroleum_final_fft, ONEOK_final_fft, Phillips_SixtySix_final_fft, Schlumberger_final_fft, TechnipFMC_final_fft, Valero_Energy_final_fft, Williams_Cos_final_fft, Affiliated_Managers_Group_final_fft, AFLAC_final_fft, Allstate_Corp_final_fft, American_Express_final_fft, American_International_Group_final_fft, Ameriprise_Financial_final_fft, Aon_final_fft, Arthur_J_Gallagher_final_fft, Assurant_final_fft, Bank_of_America_final_fft, The_Bank_of_NewYork_final_fft, BBT_final_fft, Berkshire_Hathaway_final_fft, BlackRock_final_fft, Capital_One_Financial_final_fft, Cboe_Global_Markets_final_fft, Charles_Schwab_Corporation_final_fft, Chubb_final_fft, Cincinnati_Financial_final_fft, Citigroup_final_fft, CME_Group_final_fft, Comerica_final_fft, Discover_Financial_Services_final_fft, ETrade_final_fft, Everest_Re_Group_final_fft, Fifth_Third_Bancorp_final_fft, First_Republic_Bank_final_fft, Franklin_Resources_final_fft, Goldman_Sachs_Group_final_fft, Hartford_Financial_final_fft, Huntington_Bancshares_final_fft, Intercontinental_Exchange_final_fft, Invesco_final_fft, JPMorgan_Chase_final_fft, KeyCorp_final_fft, Lincoln_National_final_fft, Loews_final_fft, MT_Bank_final_fft, Marsh_McLennan_final_fft, MetLife_final_fft, Moodys_final_fft, Morgan_Stanley_final_fft, MSCI_final_fft, Nasdaq_final_fft, Northern_Trust_final_fft, Peoples_United_Financial_final_fft, PNC_Financial_Services_final_fft, Principal_Financial_Group_final_fft, Progressive_final_fft, Prudential_Financial_final_fft, Raymond_James_Financial_final_fft, Regions_Financial_final_fft, State_Street_final_fft, SunTrust_Banks_final_fft, SVB_Financial_final_fft, T_Rowe_Price_Group_final_fft, Torchmark_final_fft, US_Bancorp_final_fft, Unum_Group_final_fft, Wells_Fargo_final_fft, Zions_Bancorp_final_fft, Abbott_Laboratories_final_fft, AbbVie_final_fft, ABIOMED_final_fft, Agilent_final_fft, Align_Technology_final_fft, Allergan_final_fft, AmerisourceBergen_Corp_final_fft, Amgen_final_fft, Baxter_International_final_fft, Becton_Dickinson_final_fft, Biogen_final_fft, Boston_Scientific_final_fft, Bristol_Myers_Squibb_final_fft, Cardinal_Health_final_fft, Celgene_final_fft, Centene_Corporation_final_fft, Cerner_final_fft, CIGNA_final_fft, The_Cooper_Companies_final_fft, CVS_Health_final_fft, Danaher_final_fft, DaVita_final_fft, Dentsply_Sirona_final_fft, Edwards_Lifesciences_final_fft, Gilead_Sciences_final_fft, HCA_Holdings_final_fft, Henry_Schein_final_fft, Hologic_final_fft, Humana_final_fft, IDEXX_Laboratories_final_fft, Illumina_final_fft, Incyte_final_fft, Intuitive_Surgical_final_fft, Johnson_Johnson_final_fft, Laboratory_America_Holding_final_fft, Lilly_final_fft, McKesson_final_fft, Medtronic_final_fft, Merck_final_fft, Mylan_NV_final_fft, Nektar_Therapeutics_final_fft, PerkinElmer_final_fft, Perrigo_final_fft, Pfizer_final_fft, Quest_Diagnostics_final_fft, Regeneron_final_fft, ResMed_final_fft, Stryker_final_fft, Teleflex_final_fft, Thermo_Fisher_Scientific_final_fft, United_Health_Group_final_fft, Universal_Health_Services_final_fft, Varian_Medical_Systems_final_fft, Vertex_Pharmaceuticals_final_fft, Waters_Corporation_final_fft, WellCare_final_fft, Zimmer_Biomet_Holdings_final_fft, Zoetis_final_fft, Accenture_final_fft, Adobe_Systems_final_fft, Advanced_Micro_Devices_final_fft, Akamai_Technologies_final_fft, Alliance_Data_Systems_final_fft, Amphenol_Corp_final_fft, Analog_Devices_final_fft, ANSYS_final_fft, Apple_final_fft, Applied_Materials_final_fft, Autodesk_final_fft, Automatic_Data_Processing_final_fft, Broadcom_final_fft, Broadridge_Financial_Solutions_final_fft, Cadence_Design_Systems_final_fft, Cisco_Systems_final_fft, Citrix_Systems_final_fft, Cognizant_Technology_Solutions_final_fft, Corning_final_fft, F5_Networks_final_fft, Fidelity_National_Information_Services_final_fft, Fiserv_final_fft, FleetCor_Technologies_final_fft, FLIR_Systems_final_fft, Fortinet_final_fft, Global_Payments_final_fft, HP_final_fft, Intel_final_fft, International_Business_Machines_final_fft, Intuit_final_fft, IPG_Photonics_final_fft, Jack_Henry_Associates_final_fft, Juniper_Networks_final_fft, Keysight_Technologies_final_fft, KLA_Tencor_Corp_final_fft, Lam_Research_final_fft, Mastercard_final_fft, Microchip_Technology_final_fft, Micron_Technology_final_fft, Microsoft_final_fft, Motorola_Solutions_final_fft, NetApp_final_fft, Nvidia_Corporation_final_fft, Oracle_final_fft, Paychex_final_fft, QUALCOMM_final_fft, Red_Hat_final_fft, Salesforce_final_fft, Rollins_final_fft, Seagate_Technology_final_fft, Skyworks_Solution_final_fft, Symantec_final_fft, Synopsys_final_fft, TE_Connectivity_final_fft, Texas_Instruments_final_fft, Total_System_Services_final_fft, Verisign_final_fft, Visa_final_fft, Western_Digital_final_fft, Western_Union_final_fft, Xerox_final_fft, Xilinx_final_fft, Air_Products_Chemicals_final_fft, Albemarle_Corp_final_fft, Avery_Dennison_final_fft, Ball_final_fft, Celanese_final_fft, CF_Industries_Holdings_final_fft, Eastman_Chemical_final_fft, Ecolab_final_fft, FMC_Corporation_final_fft, Freeport_McMoRan_final_fft, International_Paper_final_fft, LyondellBasell_final_fft, Martin_Marietta_Materials_final_fft, The_Mosaic_Company_final_fft, Newmont_Mining_Corporation_final_fft, Nucor_final_fft, Packaging_Corporation_of_America_final_fft, Sealed_Air_final_fft, Sherwin_Williams_final_fft, Vulcan_Materials_final_fft, American_Tower_Corp_final_fft, Alexandria_Real_Estate_Equities_final_fft, Apartment_Investment_Management_final_fft, AvalonBay_Communities_final_fft, Boston_Properties_final_fft, Crown_Castle_International_final_fft, Digital_Realty_Trust_final_fft, Duke_Realty_final_fft, Equinix_final_fft, Equity_Residential_final_fft, Essex_Property_Trust_final_fft, Extra_Space_Storage_final_fft, Federal_Realty_Investment_Trust_final_fft, HCP_final_fft, Host_Hotels_Resorts_final_fft, Iron_Mountain_final_fft, Kimco_Realty_final_fft, Macerich_final_fft, Mid_America_Apartments_final_fft, Prologis_final_fft, Public_Storage_final_fft, Realty_Income_Corporation_final_fft, Regency_Centers_Corporation_final_fft, SBA_Communications_final_fft, Simon_Property_Group_final_fft, SL_Green_Realty_final_fft, UDR_final_fft, Ventas_final_fft, Vornado_Realty_Trust_final_fft, Weyerhaeuser_final_fft, AES_final_fft, Alliant_Energy_Corp_final_fft, Ameren_Corp_final_fft, American_Electric_Power_final_fft, American_Water_Works_Company_final_fft, CMS_Energy_final_fft, Consolidated_Edison_final_fft, DTE_Energy_final_fft, Duke_Energy_final_fft, Dominion_Energy_final_fft, Edison_Int_final_fft, Entergy_final_fft, Evergy_final_fft, Eversource_Energy_final_fft, Exelon_final_fft, FirstEnergy_final_fft, NextEra_Energy_final_fft, NiSource_final_fft, NRG_Energy_final_fft, Pinnacle_West_Capital_final_fft, PPL_Corp_final_fft, Public_Serv_Enterprise_final_fft, Southern_final_fft, Sempra_Energy_final_fft, Wec_Energy_Group_final_fft, Xcel_Energy_final_fft"
     ]
    }
   ],
   "source": [
    "xgbModel = regressor.fit(X_train_FI,y_train_FI, \\\n",
    "                         eval_set = [(X_train_FI, y_train_FI), (X_test_FI, y_test_FI)], \\\n",
    "                         verbose=False)"
   ]
  },
  {
   "cell_type": "code",
   "execution_count": null,
   "metadata": {},
   "outputs": [],
   "source": []
  }
 ],
 "metadata": {
  "kernelspec": {
   "display_name": "Python 3",
   "language": "python",
   "name": "python3"
  },
  "language_info": {
   "codemirror_mode": {
    "name": "ipython",
    "version": 3
   },
   "file_extension": ".py",
   "mimetype": "text/x-python",
   "name": "python",
   "nbconvert_exporter": "python",
   "pygments_lexer": "ipython3",
   "version": "3.6.8"
  }
 },
 "nbformat": 4,
 "nbformat_minor": 2
}
