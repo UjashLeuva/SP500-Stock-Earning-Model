{
 "cells": [
  {
   "cell_type": "code",
   "execution_count": null,
   "metadata": {},
   "outputs": [],
   "source": []
  },
  {
   "cell_type": "code",
   "execution_count": 6,
   "metadata": {},
   "outputs": [],
   "source": [
    "import nbformat\n",
    "from nbformat.v4 import new_code_cell,new_notebook\n",
    "\n",
    "import codecs\n",
    "\n",
    "sourceFile = \"S_P_500.py\"     # <<<< change\n",
    "destFile = \"S_P_500.ipynb\"    # <<<< change\n",
    "\n",
    "\n",
    "def parsePy(fn):\n",
    "    \"\"\" Generator that parses a .py file exported from a IPython notebook and\n",
    "extracts code cells (whatever is between occurrences of \"In[*]:\").\n",
    "Returns a string containing one or more lines\n",
    "\"\"\"\n",
    "    with open(fn,\"r\") as f:\n",
    "        lines = []\n",
    "        for l in f:\n",
    "            l1 = l.strip()\n",
    "            if l1.startswith('# In[') and l1.endswith(']:') and lines:\n",
    "                yield \"\".join(lines)\n",
    "                lines = []\n",
    "                continue\n",
    "            lines.append(l)\n",
    "        if lines:\n",
    "            yield \"\".join(lines)\n",
    "\n",
    "# Create the code cells by parsing the file in input\n",
    "cells = []\n",
    "for c in parsePy(sourceFile):\n",
    "    cells.append(new_code_cell(source=c))\n",
    "\n",
    "# This creates a V4 Notebook with the code cells extracted above\n",
    "nb0 = new_notebook(cells=cells,\n",
    "                   metadata={'language': 'python',})\n",
    "\n",
    "with codecs.open(destFile, encoding='utf-8', mode='w') as f:\n",
    "    nbformat.write(nb0, f, 4)\n",
    "\n"
   ]
  },
  {
   "cell_type": "code",
   "execution_count": null,
   "metadata": {},
   "outputs": [],
   "source": []
  }
 ],
 "metadata": {
  "kernelspec": {
   "display_name": "Python 3",
   "language": "python",
   "name": "python3"
  },
  "language_info": {
   "codemirror_mode": {
    "name": "ipython",
    "version": 3
   },
   "file_extension": ".py",
   "mimetype": "text/x-python",
   "name": "python",
   "nbconvert_exporter": "python",
   "pygments_lexer": "ipython3",
   "version": "3.6.8"
  }
 },
 "nbformat": 4,
 "nbformat_minor": 2
}
