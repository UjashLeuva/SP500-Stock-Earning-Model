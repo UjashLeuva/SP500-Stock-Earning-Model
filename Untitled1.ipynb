{
 "cells": [
  {
   "cell_type": "code",
   "execution_count": 15,
   "metadata": {},
   "outputs": [
    {
     "name": "stdout",
     "output_type": "stream",
     "text": [
      "/Users/Ujash/Documents/StockPredictionJPM/NewsData/2013-01.json /Users/Ujash/Documents/StockPredictionJPM/NewsData/2013-01.json\n"
     ]
    }
   ],
   "source": [
    "\n",
    "import sys\n",
    "import json\n",
    " \n",
    "KEYS = ['acquire_campaign', 'acquire_source', 'advertising_id', 'android_id', 'app', 'app_ver', 'at', 'birth_date', 'browser', 'carrier', 'city_name', 'closed_at', 'clv_change', 'clv_total', 'country', 'custom', 'custom_X', 'customer_ids', 'device_new', 'device_timezone', 'device_uuid', 'install_id', 'language', 'lat', 'library_ver', 'lng', 'marketing_campaign', 'marketing_medium', 'marketing_source', 'model', 'name', 'nth', 'os_ver', 'platform', 'report_attr', 'screen_flow', 'sec_since_last_session', 'session_uuid', 'total_session_sec', 'type', 'user_type', 'uuid']\n",
    " \n",
    "f = input(\"/Users/Ujash/Documents/StockPredictionJPM/NewsData/2013-01.json \")\n",
    "op = open(f.split(\".\")[0]+\".csv\",\"w\")\n",
    " \n",
    "#PREPARING HEADER FOR CSV DOCUMENT\n",
    "HEADER = \"\"\n",
    "j = 0\n",
    "for k in KEYS:\n",
    "\tHEADER += k.upper()\n",
    "\tif(j < len(KEYS)):\n",
    "\t\tHEADER += \",\"\n",
    "\tj += 1\n",
    " \n",
    "op.write(HEADER+\"\\n\")\n",
    "with open(f) as file:\n",
    "\tcontent = file.readlines()\n",
    "\tfor line in content:\n",
    "\t\ttry:\n",
    "\t\t\tdata = json.loads(line)\n",
    "\t\t\tline_data = \"\"\n",
    "\t\t\tj = 0\n",
    "\t\t\tfor k in KEYS:\n",
    "\t\t\t\tif k in data:\n",
    "\t\t\t\t\tline_data += '\"'+str(data[k]).replace('\"','\\\"')+'\"'\n",
    "\t\t\t\telse:\n",
    "\t\t\t\t\tline_data += \" \"\n",
    "\t\t\t\tif(j < len(KEYS)):\n",
    "\t\t\t\t\tline_data += \",\"\n",
    "\t\t\t\tj += 1\n",
    "\t\t\t\n",
    "\t\t\top.write(line_data+\"\\n\")\n",
    "\t\texcept Exception as inst:\n",
    "\t\t\tprint(type(inst))\n",
    "\t\t\tprint(inst.args)\n",
    "\t\t\tprint(inst)\n",
    "op.close()"
   ]
  },
  {
   "cell_type": "code",
   "execution_count": null,
   "metadata": {},
   "outputs": [],
   "source": []
  }
 ],
 "metadata": {
  "kernelspec": {
   "display_name": "Python 3",
   "language": "python",
   "name": "python3"
  },
  "language_info": {
   "codemirror_mode": {
    "name": "ipython",
    "version": 3
   },
   "file_extension": ".py",
   "mimetype": "text/x-python",
   "name": "python",
   "nbconvert_exporter": "python",
   "pygments_lexer": "ipython3",
   "version": "3.6.8"
  }
 },
 "nbformat": 4,
 "nbformat_minor": 2
}
